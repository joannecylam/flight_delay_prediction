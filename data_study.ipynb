{
 "cells": [
  {
   "cell_type": "code",
   "execution_count": 1,
   "metadata": {},
   "outputs": [],
   "source": [
    "import numpy as np\n",
    "import pandas as pd\n",
    "from sklearn.preprocessing import MinMaxScaler\n",
    "from matplotlib import pyplot as plt\n",
    "from jupyterthemes import jtplot\n",
    "jtplot.style(theme='grade3')"
   ]
  },
  {
   "cell_type": "code",
   "execution_count": 2,
   "metadata": {},
   "outputs": [
    {
     "ename": "NameError",
     "evalue": "name 'Prepare_Data' is not defined",
     "output_type": "error",
     "traceback": [
      "\u001b[0;31m---------------------------------------------------------------------------\u001b[0m",
      "\u001b[0;31mNameError\u001b[0m                                 Traceback (most recent call last)",
      "\u001b[0;32m<ipython-input-2-067bc4522cc8>\u001b[0m in \u001b[0;36m<module>\u001b[0;34m()\u001b[0m\n\u001b[0;32m----> 1\u001b[0;31m \u001b[0mppd\u001b[0m \u001b[0;34m=\u001b[0m \u001b[0mPrepare_Data\u001b[0m\u001b[0;34m(\u001b[0m\u001b[0;34m)\u001b[0m\u001b[0;34m\u001b[0m\u001b[0m\n\u001b[0m",
      "\u001b[0;31mNameError\u001b[0m: name 'Prepare_Data' is not defined"
     ]
    }
   ],
   "source": [
    "ppd = Prepare_Data()"
   ]
  },
  {
   "cell_type": "code",
   "execution_count": null,
   "metadata": {},
   "outputs": [],
   "source": [
    "df = ppd.loa"
   ]
  },
  {
   "cell_type": "code",
   "execution_count": null,
   "metadata": {},
   "outputs": [],
   "source": [
    "df.delay_time.resample('3M').mean().plot(label=\"3 Month\", legend=True, title=\"Delay Time\", figsize=(15,5))\n",
    "df.delay_time.resample('M').mean().plot(label=\"1 Month\", legend=True, title=\"Delay Time\", figsize=(15,5))\n",
    "df.delay_time.resample('7D').mean().plot(label=\"7 Days\", legend=True, title=\"Delay Time\", figsize=(15,5))\n",
    "plt.savefig(\"figures/delay_trend.jpg\", dpi=100)\n",
    "plt.show()\n",
    "\n",
    "df.is_claim.resample('7D').mean().plot(label=\"Claim Amount\", legend=True, title=\"7 Days Average\", figsize=(15,5))\n",
    "df.delay_time.resample('7D').mean().plot(label=\"Delay Time\", legend=True, figsize=(15,5))\n",
    "plt.savefig(\"figures/7_days_average.jpg\", dpi=100)\n",
    "plt.show()"
   ]
  }
 ],
 "metadata": {
  "kernelspec": {
   "display_name": "Python 2",
   "language": "python",
   "name": "python2"
  },
  "language_info": {
   "codemirror_mode": {
    "name": "ipython",
    "version": 2
   },
   "file_extension": ".py",
   "mimetype": "text/x-python",
   "name": "python",
   "nbconvert_exporter": "python",
   "pygments_lexer": "ipython2",
   "version": "2.7.12"
  }
 },
 "nbformat": 4,
 "nbformat_minor": 2
}
